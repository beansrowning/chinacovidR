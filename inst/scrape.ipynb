{
 "cells": [
  {
   "cell_type": "code",
   "execution_count": 21,
   "metadata": {},
   "outputs": [
    {
     "data": {
      "text/plain": [
       "<spacy.pipeline.sentencizer.Sentencizer at 0x26106153f40>"
      ]
     },
     "execution_count": 21,
     "metadata": {},
     "output_type": "execute_result"
    }
   ],
   "source": [
    "import spacy\n",
    "from spacy.matcher import Matcher\n",
    "\n",
    "import pandas as pd\n",
    "import os\n",
    "from itertools import islice, chain\n",
    "from collections import defaultdict\n",
    "\n",
    "# Load SpaCy English model\n",
    "# ! python -m spacy download en_core_web_sm\n",
    "nlp = spacy.load(\"en_core_web_sm\")\n",
    "nlp.add_pipe(\"sentencizer\")"
   ]
  },
  {
   "cell_type": "code",
   "execution_count": 2,
   "metadata": {},
   "outputs": [],
   "source": [
    "# Helper function to window iterate\n",
    "def window(seq, n=2):\n",
    "    \"\"\"\n",
    "    Returns a sliding window (of width n) over data from the iterable\"\n",
    "    \"   s -> (s0,s1,...s[n-1]), (s1,s2,...,sn), ... \n",
    "    \"\"\"\n",
    "    it = iter(seq)\n",
    "    result = tuple(islice(it, n))\n",
    "    if len(result) == n:\n",
    "        yield result\n",
    "    for elem in it:\n",
    "        result = result[1:] + (elem,)\n",
    "        yield result"
   ]
  },
  {
   "cell_type": "markdown",
   "metadata": {},
   "source": [
    "## Reading in Data"
   ]
  },
  {
   "cell_type": "code",
   "execution_count": 16,
   "metadata": {},
   "outputs": [],
   "source": [
    "pwd = os.path.dirname(\"\")\n",
    "nhc_path = os.path.abspath(os.path.join(pwd, \"latest_nhc_data.csv\"))\n",
    "out_file = os.path.abspath(os.path.join(pwd, \"test_parse.xlsx\"))\n",
    "\n",
    "# Read data\n",
    "nhc_data = pd.read_csv(nhc_path)\n"
   ]
  },
  {
   "cell_type": "markdown",
   "metadata": {},
   "source": [
    "## Trying to parse with SpaCy"
   ]
  },
  {
   "cell_type": "code",
   "execution_count": 4,
   "metadata": {},
   "outputs": [
    {
     "data": {
      "text/plain": [
       "[On April 5, 31 provincial-level regions and the Xinjiang Production and Construction Corps on the Chinese mainland reported 1,415 new cases of confirmed infections (32 imported cases, 14 in Sichuan province, 5 in Guangdong province, 4 in Shanghai municipality, 4 in Guangxi Zhuang autonomous region, 1 in Tianjin municipality, 1 in Fujian province, 1 in Shandong province, 1 in Chongqing municipality and 1 in Yunnan province, including 17 confirmed cases converting from asymptomatic cases, 13 in Sichuan province, 2 in Guangxi Zhuang autonomous region, 1 in Guangdong province and 1 in Yunnan province; 1,383 indigenous cases, 973 in Jilin province including 817 in Changchun, 136 in Jilin city, 11 in Baicheng, 5 in Siping and 4 in Baishan, 311 in Shanghai municipality including 162 in Pudong New Area, 23 in Xuhui district, 23 in Minhang district, 16 in Huangpu district, 14 in Songjiang district, 12 in Jing’an district, 11 in Yangpu district, 11 in Jiading district, 8 in Hongkou district, 7 in Putuo district, 7 in Baoshan district, 6 in Changning district, 6 in Qingpu district, 2 in Fengxian district, 2 in Chongming district and 1 in Jinshan district, 17 in Zhejiang province including 10 in Jiaxing, 4 in Ningbo and 3 in Shaoxing, 10 in Hainan province including 9 in Sanya and 1 in Haikou, 10 in Chengdu, Sichuan province, 8 in Shanxi province including 7 in Taiyuan and 1 in Yuncheng, 8 in Heilongjiang province including 4 in Mudanjiang, 2 in Harbin and 2 in Daqing, 7 in Anshan, Liaoning province, 7 in Quanzhou, Fujian province, 7 in Guangdong province including 3 in Maoming, 2 in Guangzhou, 1 in Zhanjiang and 1 in Zhaoqing, 6 in Hebei province including 5 in Handan and 1 in Xiong’an New Area, 4 in Beijing municipality including 3 in Shunyi district and 1 in Chaoyang district, 4 in Jinan, Shandong province, 3 in Tianjin municipality including 2 in Xiqing district and 1 in Hebei district, 3 in Zhenjiang, Jiangsu province, 2 in Nanchang, Jiangxi province, 1 in Loudi, Hunan province, 1 in Dehong Dai and Jingpo autonomous prefecture, Yunnan province and 1 in Xi’an, Shaanxi province, including 127 confirmed cases converting from asymptomatic cases, 65 in Jilin province, 40 in Shanghai municipality, 7 in Fujian province, 4 in Zhejiang province, 2 in Tianjin municipality, 2 in Shanxi province, 2 in Guangdong province, 2 in Sichuan province, 1 in Liaoning province, 1 in Jiangsu province and 1 in Hainan province), no new cases of suspected infections, and no deaths.,\n",
       " 1,910 patients were released from hospital after being cured.,\n",
       " 22,416 people who had had close contact with infected patients were freed from medical observation.,\n",
       " The number of serious cases increased by 12.,\n",
       " \n",
       " \n",
       " As of 24:00 on April 5, 31 provincial-level regions and the Xinjiang Production and Construction Corps on the Chinese mainland had reported 17,737 cases of imported confirmed infections and no deaths.,\n",
       " In all, 17,196 patients had been cured and discharged from hospital.,\n",
       " There still remained 541 confirmed cases (no serious cases) and 16 suspected cases.,\n",
       " \n",
       " \n",
       " As of 24:00 on April 5, the National Health Commission had received reports of 158,793 confirmed cases and 4,638 deaths in 31 provincial-level regions and the Xinjiang Production and Construction Corps on the Chinese mainland, and in all 129,590 patients had been cured and discharged from hospital.,\n",
       " There still remained 24,565 confirmed cases (including 75 cases in serious condition) and 16 suspected cases.,\n",
       " 2,498,126 people had been identified as having had close contact with infected patients.,\n",
       " 405,535 were still under medical observation.,\n",
       " \n",
       " \n",
       " On April 5, 31 provincial-level regions and the Xinjiang Production and Construction Corps on the Chinese mainland reported 19,199 new asymptomatic cases (110 imported cases; 19,089 indigenous cases, 16,766 in Shanghai municipality including 7,892 in Pudong New Area, 2,917 in Minhang district, 902 in Xuhui district, 787 in Songjiang district, 647 in Huangpu district, 615 in Yangpu district, 548 in Baoshan district, 482 in Putuo district, 480 in Jiading district, 403 in Hongkou district, 394 in Qingpu district, 305 in Jing’an district, 151 in Fengxian district, 86 in Changning district, 81 in Jinshan district and 76 in Chongming district, 1,798 in Jilin province including 1,682 in Changchun, 112 in Jilin city, 2 in Siping and 2 in Baicheng, 103 in Hebei province including 78 in Handan, 21 in Baoding and 4 in Shijiazhuang, 74 in Jiangsu province including 32 in Suqian, 23 in Suzhou, 13 in Nantong, 4 in Xuzhou, 1 in Wuxi and 1 in Yancheng, 56 in Anhui province including 36 in Huainan, 10 in Lu’an, 8 in Fuyang, 1 in Wuhu and 1 in Huangshan, 50 in Zhejiang province including 39 in Jiaxing, 10 in Hangzhou and 1 in Jinhua, 45 in Shandong province including 13 in Weifang, 12 in Weihai, 10 in Jinan, 7 in Linyi, 2 in Qingdao and 1 in Heze, 43 in Liaoning province including 30 in Shenyang, 12 in Anshan and 1 in Jinzhou, 33 in Jiangxi province including 28 in Nanchang and 5 in Shangrao, 33 in Henan province including 30 in Zhoukou, 1 in Xuchang, 1 in Nanyang and 1 in Yongcheng, 22 in Quanzhou, Fujian province, 22 in Sanya, Hainan province, 7 in Xinjiang Uygur autonomous region including 4 in Urumqi, 2 in Changji Hui autonomous prefecture and 1 in Bayingolin Mongol autonomous prefecture, 6 in Hubei province including 2 in Huangshi, 2 in Suizhou, 1 in Wuhan and 1 in Ezhou, 5 in Tianjin municipality including 2 in Hedong district, 2 in Xiqing district and 1 in Jinnan district, 4 in Sichuan province including 3 in Chengdu and 1 in Nanchong, 4 in Dehong Dai and Jingpo autonomous prefecture, Yunnan province, 3 in Heilongjiang province including 1 in Harbin, 1 in Daqing and 1 in Jiamusi, 3 in Guangdong province including 1 in Guangzhou, 1 in Maoming and 1 in Dongguan, 2 in Yuncheng, Shanxi province, 2 in Guangxi Zhuang autonomous region including 1 in Fangchenggang and 1 in Baise, 2 in Qianxinan Bouyei and Miao autonomous prefecture, Guizhou province, 2 in Xining, Qinghai province, 1 in Shunyi district, Beijing municipality, 1 in Loudi, Hunan province, 1 in Baoji, Shaanxi province and 1 in Lanzhou, Gansu province).,\n",
       " 1,908 asymptomatic cases were freed from medical observation (including 106 imported cases) and 144 asymptomatic cases became confirmed cases (including 17 imported cases).,\n",
       " As of 24:00 on April 5, 113,950 asymptomatic cases were still under medical observation (including 1,013 imported cases).,\n",
       " \n",
       " \n",
       " As of 24:00 on April 5, 331,337 confirmed infections had been reported in the Hong Kong and Macao special administrative regions and Taiwan province: 306,389 in Hong Kong (8,349 had died and 52,793 had been cured and discharged from hospital), 82 in Macao (all had been cured and discharged from hospital) and 24,866 in Taiwan (853 had died and 13,742 had been cured and discharged from hospital).]"
      ]
     },
     "execution_count": 4,
     "metadata": {},
     "output_type": "execute_result"
    }
   ],
   "source": [
    "content_to_parse = nhc_data[\"content\"][0]\n",
    "\n",
    "# Using English language model \n",
    "parsed_content = nlp(content_to_parse)\n",
    "\n",
    "# print([(ent.text, ent.label_) for ent in parsed_content.ents])\n",
    "parsed_split = list(parsed_content.sents)\n",
    "parsed_split\n"
   ]
  },
  {
   "cell_type": "code",
   "execution_count": 37,
   "metadata": {},
   "outputs": [
    {
     "data": {
      "text/plain": [
       "defaultdict(list,\n",
       "            {'Sichuan province': [14, 13, 2],\n",
       "             'Guangdong province': [5, 1, 2],\n",
       "             'Shanghai': [4, 311, 40],\n",
       "             'Guangxi': [4, 2],\n",
       "             'Tianjin': [1, 3, 2],\n",
       "             'Fujian province': [1, 7],\n",
       "             'Shandong province': [1],\n",
       "             'Chongqing': [1],\n",
       "             'Yunnan province': [1, 1],\n",
       "             'Jilin province': [973, 65],\n",
       "             'Changchun': [817],\n",
       "             'Jilin city': [136],\n",
       "             'Baicheng': [11],\n",
       "             'Siping': [5],\n",
       "             'Baishan': [4],\n",
       "             'Pudong': [162],\n",
       "             'Xuhui': [23],\n",
       "             'Minhang': [23],\n",
       "             'Huangpu district': [16],\n",
       "             'Songjiang': [14],\n",
       "             'Jing’an district': [12],\n",
       "             'Yangpu': [11],\n",
       "             'Jiading': [11],\n",
       "             'Hongkou': [8],\n",
       "             'Putuo': [7],\n",
       "             'Baoshan': [7],\n",
       "             'Changning district': [6],\n",
       "             'Qingpu': [6],\n",
       "             'Fengxian': [2],\n",
       "             'Chongming': [2],\n",
       "             'Jinshan': [1],\n",
       "             'Zhejiang province': [17, 4],\n",
       "             'Jiaxing': [10],\n",
       "             'Ningbo': [4],\n",
       "             'Shaoxing': [3],\n",
       "             'Hainan province': [10, 1],\n",
       "             'Sanya': [9],\n",
       "             'Haikou': [1],\n",
       "             'Chengdu': [10],\n",
       "             'Shanxi': [8, 2],\n",
       "             'Taiyuan': [7],\n",
       "             'Yuncheng': [1],\n",
       "             'Heilongjiang province': [8],\n",
       "             'Mudanjiang': [4],\n",
       "             'Harbin': [2],\n",
       "             'Daqing': [2],\n",
       "             'Anshan': [7],\n",
       "             'Quanzhou': [7],\n",
       "             'Guangdong': [7],\n",
       "             'Maoming': [3],\n",
       "             'Guangzhou': [2],\n",
       "             'Zhanjiang': [1],\n",
       "             'Zhaoqing': [1],\n",
       "             'Hebei': [6, 1],\n",
       "             'Handan': [5],\n",
       "             'Xiong’an New Area': [1],\n",
       "             'Beijing': [4],\n",
       "             'Shunyi': [3],\n",
       "             'Chaoyang': [1],\n",
       "             'Jinan': [4],\n",
       "             'Xiqing': [2],\n",
       "             'Zhenjiang': [3],\n",
       "             'Nanchang': [2],\n",
       "             'Loudi': [1],\n",
       "             'Xi’an': [1],\n",
       "             'Liaoning province': [1],\n",
       "             'Jiangsu province': [1]})"
      ]
     },
     "execution_count": 37,
     "metadata": {},
     "output_type": "execute_result"
    }
   ],
   "source": [
    "\n",
    "def get_case_counts(parsed_data: list):\n",
    "    \"\"\"\n",
    "    Given a Doc, identify the localities and their case counts\n",
    "    and return as a list of dicts\n",
    "    \"\"\"\n",
    "    out = []\n",
    "\n",
    "    for sent in parsed_data:\n",
    "        sub_out = []\n",
    "        dd_out = defaultdict(list)\n",
    "\n",
    "        for tup in window(sent.ents, 2):\n",
    "            prev_token = tup[0]\n",
    "            ent = tup[1]\n",
    "            \n",
    "            # If we find a province / city name\n",
    "            if ent.label_ in (\"ORG\", \"GPE\", \"LOC\"):\n",
    "                # and the previous token was number-like\n",
    "                if prev_token[0].like_num:\n",
    "                    # Append it to the list, with key equal to the location\n",
    "                    # and the value\n",
    "                    sub_out.append({ent.text: prev_token.text})\n",
    "                \n",
    "\n",
    "        # Grow each key (province / city) if there are multiple entries\n",
    "        for dic in sub_out:\n",
    "            for k, v in dic.items():\n",
    "                # Convert text to int to avoid oddities with extend\n",
    "                dd_out[k].extend([int(v.replace(\",\", \"\"))])\n",
    "        out.append(dd_out)\n",
    "\n",
    "\n",
    "\n",
    "    return out\n",
    "\n",
    "# Pull case counts\n",
    "case_counts = get_case_counts(parsed_split)\n",
    "\n",
    "case_counts[0]"
   ]
  }
 ],
 "metadata": {
  "interpreter": {
   "hash": "efc8909056295f7ac0306314fc6701785a7c5529a31a1b9f3a632e9f2744ad31"
  },
  "kernelspec": {
   "display_name": "Python 3.8.3 ('venv': venv)",
   "language": "python",
   "name": "python3"
  },
  "language_info": {
   "codemirror_mode": {
    "name": "ipython",
    "version": 3
   },
   "file_extension": ".py",
   "mimetype": "text/x-python",
   "name": "python",
   "nbconvert_exporter": "python",
   "pygments_lexer": "ipython3",
   "version": "3.8.3"
  },
  "orig_nbformat": 4
 },
 "nbformat": 4,
 "nbformat_minor": 2
}
