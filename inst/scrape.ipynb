{
 "cells": [
  {
   "cell_type": "code",
   "execution_count": 1,
   "metadata": {},
   "outputs": [
    {
     "name": "stderr",
     "output_type": "stream",
     "text": [
      "c:\\Users\\oet5\\chinacovidR\\inst\\venv\\lib\\site-packages\\tqdm\\auto.py:22: TqdmWarning: IProgress not found. Please update jupyter and ipywidgets. See https://ipywidgets.readthedocs.io/en/stable/user_install.html\n",
      "  from .autonotebook import tqdm as notebook_tqdm\n"
     ]
    },
    {
     "data": {
      "text/plain": [
       "<spacy.pipeline.sentencizer.Sentencizer at 0x27491039a80>"
      ]
     },
     "execution_count": 1,
     "metadata": {},
     "output_type": "execute_result"
    }
   ],
   "source": [
    "import spacy\n",
    "\n",
    "import pandas as pd\n",
    "import os\n",
    "from itertools import islice\n",
    "from collections import defaultdict\n",
    "from functools import reduce\n",
    "# Load SpaCy English model\n",
    "# ! python -m spacy download en_core_web_trf\n",
    "nlp = spacy.load(\"en_core_web_sm\")\n",
    "nlp.add_pipe(\"sentencizer\")"
   ]
  },
  {
   "cell_type": "code",
   "execution_count": 2,
   "metadata": {},
   "outputs": [],
   "source": [
    "# Helper function to window iterate\n",
    "def window(seq, n=2):\n",
    "    \"\"\"\n",
    "    Returns a sliding window (of width n) over data from the iterable\"\n",
    "    \"   s -> (s0,s1,...s[n-1]), (s1,s2,...,sn), ... \n",
    "    \"\"\"\n",
    "    it = iter(seq)\n",
    "    result = tuple(islice(it, n))\n",
    "    if len(result) == n:\n",
    "        yield result\n",
    "    for elem in it:\n",
    "        result = result[1:] + (elem,)\n",
    "        yield result"
   ]
  },
  {
   "cell_type": "markdown",
   "metadata": {},
   "source": [
    "## Reading in Data"
   ]
  },
  {
   "cell_type": "code",
   "execution_count": 3,
   "metadata": {},
   "outputs": [],
   "source": [
    "pwd = os.path.dirname(\"\")\n",
    "nhc_path = os.path.abspath(os.path.join(pwd, \"latest_nhc_data.csv\"))\n",
    "out_file = os.path.abspath(os.path.join(pwd, \"test_parse.xlsx\"))\n",
    "\n",
    "# Read data\n",
    "nhc_data = pd.read_csv(nhc_path)\n"
   ]
  },
  {
   "cell_type": "code",
   "execution_count": 10,
   "metadata": {},
   "outputs": [
    {
     "data": {
      "text/html": [
       "<div>\n",
       "<style scoped>\n",
       "    .dataframe tbody tr th:only-of-type {\n",
       "        vertical-align: middle;\n",
       "    }\n",
       "\n",
       "    .dataframe tbody tr th {\n",
       "        vertical-align: top;\n",
       "    }\n",
       "\n",
       "    .dataframe thead th {\n",
       "        text-align: right;\n",
       "    }\n",
       "</style>\n",
       "<table border=\"1\" class=\"dataframe\">\n",
       "  <thead>\n",
       "    <tr style=\"text-align: right;\">\n",
       "      <th></th>\n",
       "      <th>date</th>\n",
       "      <th>url</th>\n",
       "      <th>read_time</th>\n",
       "      <th>content</th>\n",
       "    </tr>\n",
       "  </thead>\n",
       "  <tbody>\n",
       "    <tr>\n",
       "      <th>0</th>\n",
       "      <td>2022-04-07</td>\n",
       "      <td>http://en.nhc.gov.cn/2022-04/07/c_85911.htm</td>\n",
       "      <td>2022-04-08T03:32:46Z</td>\n",
       "      <td>On April 6, 31 provincial-level regions and th...</td>\n",
       "    </tr>\n",
       "    <tr>\n",
       "      <th>1</th>\n",
       "      <td>2022-04-06</td>\n",
       "      <td>http://en.nhc.gov.cn/2022-04/06/c_85910.htm</td>\n",
       "      <td>2022-04-06T04:00:00Z</td>\n",
       "      <td>On April 5, 31 provincial-level regions and th...</td>\n",
       "    </tr>\n",
       "    <tr>\n",
       "      <th>2</th>\n",
       "      <td>2022-04-05</td>\n",
       "      <td>http://en.nhc.gov.cn/2022-04/05/c_85909.htm</td>\n",
       "      <td>2022-04-06T04:00:00Z</td>\n",
       "      <td>On April 4, 31 provincial-level regions and th...</td>\n",
       "    </tr>\n",
       "    <tr>\n",
       "      <th>3</th>\n",
       "      <td>2022-04-04</td>\n",
       "      <td>http://en.nhc.gov.cn/2022-04/04/c_85908.htm</td>\n",
       "      <td>2022-04-06T04:00:00Z</td>\n",
       "      <td>On April 3, 31 provincial-level regions and th...</td>\n",
       "    </tr>\n",
       "    <tr>\n",
       "      <th>4</th>\n",
       "      <td>2022-04-03</td>\n",
       "      <td>http://en.nhc.gov.cn/2022-04/03/c_85907.htm</td>\n",
       "      <td>2022-04-06T04:00:00Z</td>\n",
       "      <td>On April 2, 31 provincial-level regions and th...</td>\n",
       "    </tr>\n",
       "    <tr>\n",
       "      <th>...</th>\n",
       "      <td>...</td>\n",
       "      <td>...</td>\n",
       "      <td>...</td>\n",
       "      <td>...</td>\n",
       "    </tr>\n",
       "    <tr>\n",
       "      <th>719</th>\n",
       "      <td>2020-02-03</td>\n",
       "      <td>http://en.nhc.gov.cn/2020-02/03/c_76225.htm</td>\n",
       "      <td>2022-03-23T04:00:00Z</td>\n",
       "      <td>On Feb 2, 31 provincial-level regions on the C...</td>\n",
       "    </tr>\n",
       "    <tr>\n",
       "      <th>720</th>\n",
       "      <td>2020-02-01</td>\n",
       "      <td>http://en.nhc.gov.cn/2020-02/01/c_76084.htm</td>\n",
       "      <td>2022-03-23T04:00:00Z</td>\n",
       "      <td>Security inspector measures a passenger's temp...</td>\n",
       "    </tr>\n",
       "    <tr>\n",
       "      <th>721</th>\n",
       "      <td>2020-01-31</td>\n",
       "      <td>http://en.nhc.gov.cn/2020-01/31/c_76065.htm</td>\n",
       "      <td>2022-03-23T04:00:00Z</td>\n",
       "      <td>A medical worker in hazmat suit speaks with su...</td>\n",
       "    </tr>\n",
       "    <tr>\n",
       "      <th>722</th>\n",
       "      <td>2020-01-30</td>\n",
       "      <td>http://en.nhc.gov.cn/2020-01/30/c_76048.htm</td>\n",
       "      <td>2022-03-23T04:00:00Z</td>\n",
       "      <td>Chinese health authorities announced on Jan 30...</td>\n",
       "    </tr>\n",
       "    <tr>\n",
       "      <th>723</th>\n",
       "      <td>2020-01-29</td>\n",
       "      <td>http://en.nhc.gov.cn/2020-01/29/c_76043.htm</td>\n",
       "      <td>2022-03-23T04:00:00Z</td>\n",
       "      <td>Jan 29\\n\\n- 5,974 confirmed coronavirus cases ...</td>\n",
       "    </tr>\n",
       "  </tbody>\n",
       "</table>\n",
       "<p>724 rows × 4 columns</p>\n",
       "</div>"
      ],
      "text/plain": [
       "           date                                          url  \\\n",
       "0    2022-04-07  http://en.nhc.gov.cn/2022-04/07/c_85911.htm   \n",
       "1    2022-04-06  http://en.nhc.gov.cn/2022-04/06/c_85910.htm   \n",
       "2    2022-04-05  http://en.nhc.gov.cn/2022-04/05/c_85909.htm   \n",
       "3    2022-04-04  http://en.nhc.gov.cn/2022-04/04/c_85908.htm   \n",
       "4    2022-04-03  http://en.nhc.gov.cn/2022-04/03/c_85907.htm   \n",
       "..          ...                                          ...   \n",
       "719  2020-02-03  http://en.nhc.gov.cn/2020-02/03/c_76225.htm   \n",
       "720  2020-02-01  http://en.nhc.gov.cn/2020-02/01/c_76084.htm   \n",
       "721  2020-01-31  http://en.nhc.gov.cn/2020-01/31/c_76065.htm   \n",
       "722  2020-01-30  http://en.nhc.gov.cn/2020-01/30/c_76048.htm   \n",
       "723  2020-01-29  http://en.nhc.gov.cn/2020-01/29/c_76043.htm   \n",
       "\n",
       "                read_time                                            content  \n",
       "0    2022-04-08T03:32:46Z  On April 6, 31 provincial-level regions and th...  \n",
       "1    2022-04-06T04:00:00Z  On April 5, 31 provincial-level regions and th...  \n",
       "2    2022-04-06T04:00:00Z  On April 4, 31 provincial-level regions and th...  \n",
       "3    2022-04-06T04:00:00Z  On April 3, 31 provincial-level regions and th...  \n",
       "4    2022-04-06T04:00:00Z  On April 2, 31 provincial-level regions and th...  \n",
       "..                    ...                                                ...  \n",
       "719  2022-03-23T04:00:00Z  On Feb 2, 31 provincial-level regions on the C...  \n",
       "720  2022-03-23T04:00:00Z  Security inspector measures a passenger's temp...  \n",
       "721  2022-03-23T04:00:00Z  A medical worker in hazmat suit speaks with su...  \n",
       "722  2022-03-23T04:00:00Z  Chinese health authorities announced on Jan 30...  \n",
       "723  2022-03-23T04:00:00Z  Jan 29\\n\\n- 5,974 confirmed coronavirus cases ...  \n",
       "\n",
       "[724 rows x 4 columns]"
      ]
     },
     "execution_count": 10,
     "metadata": {},
     "output_type": "execute_result"
    }
   ],
   "source": [
    "nhc_data"
   ]
  },
  {
   "cell_type": "markdown",
   "metadata": {},
   "source": [
    "## Trying to parse with SpaCy"
   ]
  },
  {
   "cell_type": "code",
   "execution_count": 5,
   "metadata": {},
   "outputs": [
    {
     "data": {
      "text/plain": [
       "[On April 6, 31 provincial-level regions and the Xinjiang Production and Construction Corps on the Chinese mainland reported 1,323 new cases of confirmed infections (39 imported cases, 15 in Fujian province, 11 in Sichuan province, 7 in Shanghai municipality, 1 in Beijing municipality, 1 in Liaoning province, 1 in Jiangxi province, 1 in Hunan province, 1 in Guangdong province and 1 in Yunnan province, including 10 confirmed cases converting from asymptomatic cases, 9 in Sichuan province and 1 in Guangdong province; 1,284 indigenous cases, 890 in Jilin province including 766 in Changchun, 112 in Jilin city, 11 in Baicheng and 1 in Siping, 322 in Shanghai municipality including 150 in Pudong New Area, 31 in Changning district, 28 in Putuo district, 27 in Jing’an district, 21 in Minhang district, 19 in Xuhui district, 12 in Yangpu district, 9 in Huangpu district, 9 in Baoshan district, 6 in Jiading district, 4 in Qingpu district, 3 in Jinshan district, 2 in Songjiang district and 1 in Hongkou district, 14 in Zhejiang province including 10 in Jiaxing, 2 in Ningbo, 1 in Wenzhou and 1 in Shaoxing, 10 in Sichuan province including 7 in Chengdu, 2 in Leshan and 1 in Suining, 9 in Heilongjiang province including 5 in Harbin, 3 in Mudanjiang and 1 in Heihe, 7 in Shanxi province including 6 in Taiyuan and 1 in Yuncheng, 7 in Fujian province including 5 in Quanzhou, 1 in Xiamen and 1 in Ningde, 4 in Chaoyang district, Beijing municipality, 4 in Shandong province including 2 in Weihai, 1 in Jinan and 1 in Qingdao, 4 in Sanya, Hainan province, 3 in Handan, Hebei province, 3 in Jiangsu province including 1 in Xuzhou, 1 in Suzhou and 1 in Zhenjiang, 2 in Nanchang, Jiangxi province, 1 in Tongliao, Inner Mongolia autonomous region, 1 in Shenyang, Liaoning province, 1 in Fuyang, Anhui province, 1 in Zhoukou, Henan province, and 1 in Qianxinan Bouyei and Miao autonomous prefecture, Guizhou province, including 95 confirmed cases converting from asymptomatic cases, 53 in Jilin province, 15 in Shanghai municipality, 8 in Zhejiang province, 6 in Sichuan province, 5 in Fujian province, 2 in Shandong province, 2 in Hainan province, 1 in Beijing municipality, 1 in Inner Mongolia autonomous region, 1 in Anhui province and 1 in Henan province), 4 new cases of suspected infections (all were imported cases in Shanghai municipality), and no deaths.,\n",
       " 1,765 patients were released from hospital after being cured.,\n",
       " 24,320 people who had had close contact with infected patients were freed from medical observation.,\n",
       " The number of serious cases increased by 10.,\n",
       " \n",
       " \n",
       " As of 24:00 on April 6, 31 provincial-level regions and the Xinjiang Production and Construction Corps on the Chinese mainland had reported 17,776 cases of imported confirmed infections and no deaths.,\n",
       " In all, 17,279 patients had been cured and discharged from hospital.,\n",
       " There still remained 497 confirmed cases (no serious cases) and 19 suspected cases.,\n",
       " \n",
       " \n",
       " As of 24:00 on April 6, the National Health Commission had received reports of 160,116 confirmed cases and 4,638 deaths in 31 provincial-level regions and the Xinjiang Production and Construction Corps on the Chinese mainland, and in all 131,355 patients had been cured and discharged from hospital.,\n",
       " There still remained 24,123 confirmed cases (including 85 cases in serious condition) and 19 suspected cases.,\n",
       " 2,538,044 people had been identified as having had close contact with infected patients.,\n",
       " 420,067 were still under medical observation.,\n",
       " \n",
       " \n",
       " On April 6, 31 provincial-level regions and the Xinjiang Production and Construction Corps on the Chinese mainland reported 21,784 new asymptomatic cases (73 imported cases; 21,711 indigenous cases, 19,660 in Shanghai municipality including 8,296 in Pudong New Area, 2,387 in Minhang district, 1,402 in Jiading district, 1,087 in Xuhui district, 1,041 in Huangpu district, 1,008 in Putuo district, 781 in Songjiang district, 669 in Hongkou district, 653 in Baoshan district, 621 in Yangpu district, 516 in Jing’an district, 465 in Qingpu district, 328 in Changning district, 267 in Fengxian district, 76 in Jinshan district and 63 in Chongming district, 1,546 in Jilin province including 1,423 in Changchun, 122 in Jilin city and 1 in Siping, 139 in Hebei province including 78 in Handan, 59 in Baoding, 1 in Shijiazhuang and 1 in Dingzhou, 75 in Jiangsu province including 39 in Suqian, 25 in Suzhou, 4 in Nanjing, 2 in Xuzhou, 2 in Nantong, 2 in Zhenjiang and 1 in Yancheng, 60 in Anhui province including 36 in Huainan, 17 in Fuyang, 5 in Lu’an and 2 in Hefei, 41 in Zhejiang province including 37 in Jiaxing, 2 in Hangzhou, 1 in Ningbo and 1 in Shaoxing, 36 in Henan province including 20 in Yongcheng and 16 in Zhoukou, 32 in Jiangxi province including 31 in Nanchang and 1 in Shangrao, 26 in Shandong province including 9 in Jinan, 7 in Linyi, 6 in Weifang, 2 in Weihai, 1 in Zaozhuang and 1 in Heze, 21 in Liaoning province including 15 in Shenyang and 6 in Anshan, 16 in Quanzhou, Fujian province, 11 in Heilongjiang province including 5 in Mudanjiang, 4 in Jiamusi, 1 in Harbin and 1 in Daqing, 9 in Hainan province including 6 in Sanya, 2 in Lingshui Li autonomous county and 1 in Haikou, 8 in Guangxi Zhuang autonomous region including 4 in Chongzuo, 2 in Fangchenggang and 2 in Baise, 6 in Yunnan province including 4 in Dehong Dai and Jingpo autonomous prefecture and 2 in Honghe Hani and Yi autonomous prefecture, 4 in Tianjin municipality including 3 in Xiqing district and 1 in Nankai district, 4 in Hubei province including 3 in Suizhou and 1 in Wuhan, 4 in Foshan, Guangdong province, 4 in Sichuan province including 2 in Leshan, 1 in Chengdu and 1 in Suining, 4 in Urumqi, Xinjiang Uygur autonomous region, 2 in Wuzhong, Ningxia Hui autonomous region, 1 in Taiyuan, Shanxi province, 1 in Tongliao, Inner Mongolia autonomous region, and 1 in Xining, Qinghai province).,\n",
       " 2,682 asymptomatic cases were freed from medical observation (including 83 imported cases) and 105 asymptomatic cases became confirmed cases (including 10 imported cases).,\n",
       " As of 24:00 on April 6, 132,948 asymptomatic cases (increased by 1 in Jilin province after verification) were still under medical observation (including 993 imported cases).,\n",
       " \n",
       " \n",
       " As of 24:00 on April 6, 332,111 confirmed infections had been reported in the Hong Kong and Macao special administrative regions and Taiwan province: 306,804 in Hong Kong (8,460 had died and 53,448 had been cured and discharged from hospital), 82 in Macao (all had been cured and discharged from hospital) and 25,225 in Taiwan (853 had died and 13,742 had been cured and discharged from hospital).]"
      ]
     },
     "execution_count": 5,
     "metadata": {},
     "output_type": "execute_result"
    }
   ],
   "source": [
    "content_to_parse = nhc_data[\"content\"][0]\n",
    "\n",
    "# Using English language model \n",
    "parsed_content = nlp(content_to_parse)\n",
    "\n",
    "# print([(ent.text, ent.label_) for ent in parsed_content.ents])\n",
    "parsed_split = list(parsed_content.sents)\n",
    "parsed_split\n"
   ]
  },
  {
   "cell_type": "code",
   "execution_count": 6,
   "metadata": {},
   "outputs": [
    {
     "data": {
      "text/plain": [
       "defaultdict(list,\n",
       "            {'Fujian province': [15, 7, 5],\n",
       "             'Sichuan province': [11, 6],\n",
       "             'Shanghai': [7, 322, 15, 4],\n",
       "             'Beijing': [1, 1],\n",
       "             'Liaoning province': [1],\n",
       "             'Jiangxi province': [1],\n",
       "             'Hunan province': [1],\n",
       "             'Guangdong province': [1],\n",
       "             'Yunnan province': [1],\n",
       "             'Sichuan': [9, 10],\n",
       "             'Guangdong': [1],\n",
       "             'Jilin province': [890, 53],\n",
       "             'Changchun': [766],\n",
       "             'Jilin city': [112],\n",
       "             'Siping': [1],\n",
       "             'Pudong': [150],\n",
       "             'Changning district': [31],\n",
       "             'Putuo': [28],\n",
       "             'Jing’an district': [27],\n",
       "             'Minhang': [21],\n",
       "             'Xuhui': [19],\n",
       "             'Yangpu': [12],\n",
       "             'Huangpu district': [9],\n",
       "             'Baoshan': [9],\n",
       "             'Jiading': [6],\n",
       "             'Qingpu': [4],\n",
       "             'Jinshan': [3],\n",
       "             'Songjiang': [2],\n",
       "             'Hongkou': [1],\n",
       "             'Zhejiang province': [14, 8],\n",
       "             'Jiaxing': [10],\n",
       "             'Ningbo': [2],\n",
       "             'Wenzhou': [1],\n",
       "             'Shaoxing': [1],\n",
       "             'Chengdu': [7],\n",
       "             'Leshan': [2],\n",
       "             'Suining': [1],\n",
       "             'Heilongjiang': [9],\n",
       "             'Harbin': [5],\n",
       "             'Mudanjiang': [3],\n",
       "             'Heihe': [1],\n",
       "             'Shanxi': [7],\n",
       "             'Taiyuan': [6],\n",
       "             'Yuncheng': [1],\n",
       "             'Quanzhou': [5],\n",
       "             'Xiamen': [1],\n",
       "             'Ningde': [1],\n",
       "             'Chaoyang': [4],\n",
       "             'Shandong': [4],\n",
       "             'Weihai': [2],\n",
       "             'Jinan': [1],\n",
       "             'Qingdao': [1],\n",
       "             'Sanya': [4],\n",
       "             'Handan': [3],\n",
       "             'Jiangsu province': [3],\n",
       "             'Xuzhou': [1],\n",
       "             'Suzhou': [1],\n",
       "             'Zhenjiang': [1],\n",
       "             'Nanchang': [2],\n",
       "             'Tongliao': [1],\n",
       "             'Shenyang': [1],\n",
       "             'Fuyang': [1],\n",
       "             'Zhoukou': [1],\n",
       "             'Qianxinan Bouyei': [1],\n",
       "             'Shandong province': [2],\n",
       "             'Hainan province': [2],\n",
       "             'Inner Mongolia': [1],\n",
       "             'Anhui': [1],\n",
       "             'Henan province': [1]})"
      ]
     },
     "execution_count": 6,
     "metadata": {},
     "output_type": "execute_result"
    }
   ],
   "source": [
    "\n",
    "def get_case_counts(parsed_data: list):\n",
    "    \"\"\"\n",
    "    Given a list of Docs, identify the localities and their case counts\n",
    "    and return as a list of dicts\n",
    "    \"\"\"\n",
    "    out = []\n",
    "\n",
    "    for sent in parsed_data:\n",
    "        sub_out = []\n",
    "        dd_out = defaultdict(list)\n",
    "\n",
    "        for tup in window(sent.ents, 2):\n",
    "            prev_token = tup[0]\n",
    "            ent = tup[1]\n",
    "            \n",
    "            numberish = prev_token.text.replace(\",\", \"\").isdigit()\n",
    "\n",
    "            # If we find a province / city name\n",
    "            if ent.label_ in (\"ORG\", \"GPE\", \"LOC\"):\n",
    "                # and the previous token was number-like\n",
    "                if prev_token[0].like_num and numberish:\n",
    "                    # Append it to the list, with key equal to the location\n",
    "                    # and the value\n",
    "                    sub_out.append({ent.text: prev_token.text})\n",
    "                \n",
    "\n",
    "        # Grow each key (province / city) if there are multiple entries\n",
    "        for dic in sub_out:\n",
    "            for k, v in dic.items():\n",
    "                # Convert text to int to avoid oddities with extend\n",
    "                dd_out[k].extend([int(v.replace(\",\", \"\"))])\n",
    "        out.append(dd_out)\n",
    "\n",
    "\n",
    "\n",
    "    return out\n",
    "\n",
    "# Pull case counts\n",
    "case_counts = get_case_counts(parsed_split)\n",
    "\n",
    "case_counts[0]"
   ]
  },
  {
   "cell_type": "markdown",
   "metadata": {},
   "source": [
    "### \"flatten\" counts\n",
    "\n",
    "By extending the list, we captured multiple entries for case counts per locality.  \n",
    "That's a helpful structure if we decided later to disaggregate counts, but we just want the total.\n",
    "\n",
    "Easy sum operation, but will the counts align?"
   ]
  },
  {
   "cell_type": "code",
   "execution_count": 7,
   "metadata": {},
   "outputs": [
    {
     "data": {
      "text/plain": [
       "[       Fujian province  Sichuan province  Shanghai  Beijing  \\\n",
       " cases               27                17       348        2   \n",
       " \n",
       "        Liaoning province  Jiangxi province  Hunan province  \\\n",
       " cases                  1                 1               1   \n",
       " \n",
       "        Guangdong province  Yunnan province  Sichuan  ...  Tongliao  Shenyang  \\\n",
       " cases                   1                1       19  ...         1         1   \n",
       " \n",
       "        Fuyang  Zhoukou  Qianxinan Bouyei  Shandong province  Hainan province  \\\n",
       " cases       1        1                 1                  2                2   \n",
       " \n",
       "        Inner Mongolia  Anhui  Henan province  \n",
       " cases               1      1               1  \n",
       " \n",
       " [1 rows x 69 columns],\n",
       "        Shanghai  Pudong  Minhang  Jiading  Xuhui  Huangpu district  Putuo  \\\n",
       " cases     19660    8296     2387     1402   1087              1041   1008   \n",
       " \n",
       "        Songjiang  Hongkou  Baoshan  ...  Foshan  Sichuan  Leshan  Chengdu  \\\n",
       " cases        781      669      653  ...       4        4       2        1   \n",
       " \n",
       "        Suining  Urumqi  Wuzhong  Taiyuan  Tongliao  Xining  \n",
       " cases        1       4        2        1         1       1  \n",
       " \n",
       " [1 rows x 90 columns],\n",
       "        Jilin province\n",
       " cases               1,\n",
       "        Hong Kong  Macao  Taiwan\n",
       " cases     638915     82   25225]"
      ]
     },
     "execution_count": 7,
     "metadata": {},
     "output_type": "execute_result"
    }
   ],
   "source": [
    "def flatten_cases(cases: dict):\n",
    "    out = cases.copy()\n",
    "    for k, v in out.items():\n",
    "        out.update({k: sum(v)})\n",
    "    return out\n",
    "\n",
    "\n",
    "flat_cases = [flatten_cases(a) for a in case_counts if len(a) > 0]\n",
    "frames = [pd.DataFrame(a, index = [\"cases\"]) for a in flat_cases]\n",
    "\n",
    "frames"
   ]
  },
  {
   "cell_type": "markdown",
   "metadata": {},
   "source": [
    "### Tidying\n",
    "\n",
    "Pivot and combine the the list of tables into a single data frame.  \n",
    "\n",
    "(with the idea being that we now have columns for confirmed and asymptomatic by locality)"
   ]
  },
  {
   "cell_type": "code",
   "execution_count": 8,
   "metadata": {},
   "outputs": [],
   "source": [
    "\n",
    "def transpose_and_combine(dfs: list, metrics: list=[\"confirmed\", \"asymptomatic\"]):\n",
    "    \"\"\"\n",
    "    Given a list of Dfs in an expected order,\n",
    "    transpose and column-bind\n",
    "    \"\"\"\n",
    "    out_list = []\n",
    "    for item in zip(dfs, metrics):\n",
    "        df = item[0].T.reset_index()\n",
    "        df.columns = [\"Location\", item[1]]\n",
    "        out_list.append(df)\n",
    "    \n",
    "    out = reduce(lambda left,right: pd.merge(left, right, on='Location'), out_list)\n",
    "\n",
    "    return out\n",
    "\n",
    "transpose_and_combine(frames).to_csv(\"2020_04_06_extracted.csv\")"
   ]
  },
  {
   "cell_type": "code",
   "execution_count": 11,
   "metadata": {},
   "outputs": [
    {
     "ename": "TypeError",
     "evalue": "reduce() of empty sequence with no initial value",
     "output_type": "error",
     "traceback": [
      "\u001b[1;31m---------------------------------------------------------------------------\u001b[0m",
      "\u001b[1;31mTypeError\u001b[0m                                 Traceback (most recent call last)",
      "\u001b[1;32mc:\\Users\\oet5\\chinacovidR\\inst\\scrape.ipynb Cell 13'\u001b[0m in \u001b[0;36m<cell line: 15>\u001b[1;34m()\u001b[0m\n\u001b[0;32m     <a href='vscode-notebook-cell:/c%3A/Users/oet5/chinacovidR/inst/scrape.ipynb#ch0000013?line=10'>11</a>\u001b[0m     out \u001b[39m=\u001b[39m transpose_and_combine(frames)\n\u001b[0;32m     <a href='vscode-notebook-cell:/c%3A/Users/oet5/chinacovidR/inst/scrape.ipynb#ch0000013?line=12'>13</a>\u001b[0m     \u001b[39mreturn\u001b[39;00m (date, out)\n\u001b[1;32m---> <a href='vscode-notebook-cell:/c%3A/Users/oet5/chinacovidR/inst/scrape.ipynb#ch0000013?line=14'>15</a>\u001b[0m extracted \u001b[39m=\u001b[39m \u001b[39mlist\u001b[39;49m(\u001b[39mmap\u001b[39;49m(extract_case_counts, nhc_data[\u001b[39m\"\u001b[39;49m\u001b[39mcontent\u001b[39;49m\u001b[39m\"\u001b[39;49m], nhc_data[\u001b[39m\"\u001b[39;49m\u001b[39mdate\u001b[39;49m\u001b[39m\"\u001b[39;49m]))\n",
      "\u001b[1;32mc:\\Users\\oet5\\chinacovidR\\inst\\scrape.ipynb Cell 13'\u001b[0m in \u001b[0;36mextract_case_counts\u001b[1;34m(raw_text, date)\u001b[0m\n\u001b[0;32m      <a href='vscode-notebook-cell:/c%3A/Users/oet5/chinacovidR/inst/scrape.ipynb#ch0000013?line=7'>8</a>\u001b[0m flat_cases \u001b[39m=\u001b[39m [flatten_cases(a) \u001b[39mfor\u001b[39;00m a \u001b[39min\u001b[39;00m case_counts \u001b[39mif\u001b[39;00m \u001b[39mlen\u001b[39m(a) \u001b[39m>\u001b[39m \u001b[39m0\u001b[39m]\n\u001b[0;32m      <a href='vscode-notebook-cell:/c%3A/Users/oet5/chinacovidR/inst/scrape.ipynb#ch0000013?line=8'>9</a>\u001b[0m frames \u001b[39m=\u001b[39m [pd\u001b[39m.\u001b[39mDataFrame(a, index \u001b[39m=\u001b[39m [\u001b[39m\"\u001b[39m\u001b[39mcases\u001b[39m\u001b[39m\"\u001b[39m]) \u001b[39mfor\u001b[39;00m a \u001b[39min\u001b[39;00m flat_cases]\n\u001b[1;32m---> <a href='vscode-notebook-cell:/c%3A/Users/oet5/chinacovidR/inst/scrape.ipynb#ch0000013?line=10'>11</a>\u001b[0m out \u001b[39m=\u001b[39m transpose_and_combine(frames)\n\u001b[0;32m     <a href='vscode-notebook-cell:/c%3A/Users/oet5/chinacovidR/inst/scrape.ipynb#ch0000013?line=12'>13</a>\u001b[0m \u001b[39mreturn\u001b[39;00m (date, out)\n",
      "\u001b[1;32mc:\\Users\\oet5\\chinacovidR\\inst\\scrape.ipynb Cell 12'\u001b[0m in \u001b[0;36mtranspose_and_combine\u001b[1;34m(dfs, metrics)\u001b[0m\n\u001b[0;32m      <a href='vscode-notebook-cell:/c%3A/Users/oet5/chinacovidR/inst/scrape.ipynb#ch0000008?line=8'>9</a>\u001b[0m     df\u001b[39m.\u001b[39mcolumns \u001b[39m=\u001b[39m [\u001b[39m\"\u001b[39m\u001b[39mLocation\u001b[39m\u001b[39m\"\u001b[39m, item[\u001b[39m1\u001b[39m]]\n\u001b[0;32m     <a href='vscode-notebook-cell:/c%3A/Users/oet5/chinacovidR/inst/scrape.ipynb#ch0000008?line=9'>10</a>\u001b[0m     out_list\u001b[39m.\u001b[39mappend(df)\n\u001b[1;32m---> <a href='vscode-notebook-cell:/c%3A/Users/oet5/chinacovidR/inst/scrape.ipynb#ch0000008?line=11'>12</a>\u001b[0m out \u001b[39m=\u001b[39m reduce(\u001b[39mlambda\u001b[39;49;00m left,right: pd\u001b[39m.\u001b[39;49mmerge(left, right, on\u001b[39m=\u001b[39;49m\u001b[39m'\u001b[39;49m\u001b[39mLocation\u001b[39;49m\u001b[39m'\u001b[39;49m), out_list)\n\u001b[0;32m     <a href='vscode-notebook-cell:/c%3A/Users/oet5/chinacovidR/inst/scrape.ipynb#ch0000008?line=13'>14</a>\u001b[0m \u001b[39mreturn\u001b[39;00m out\n",
      "\u001b[1;31mTypeError\u001b[0m: reduce() of empty sequence with no initial value"
     ]
    }
   ],
   "source": [
    "def extract_case_counts(raw_text: str, date: str):\n",
    "    # Using English language model \n",
    "    parsed_content = nlp(raw_text)\n",
    "\n",
    "    parsed_split = list(parsed_content.sents)\n",
    "    \n",
    "    case_counts = get_case_counts(parsed_split)\n",
    "    flat_cases = [flatten_cases(a) for a in case_counts if len(a) > 0]\n",
    "    frames = [pd.DataFrame(a, index = [\"cases\"]) for a in flat_cases]\n",
    "\n",
    "    out = transpose_and_combine(frames)\n",
    "\n",
    "    return (date, out)\n",
    "\n",
    "extracted = list(map(extract_case_counts, nhc_data[\"content\"], nhc_data[\"date\"]))"
   ]
  },
  {
   "cell_type": "code",
   "execution_count": null,
   "metadata": {},
   "outputs": [],
   "source": [
    "with pd.ExcelWriter(out_file) as writer:\n",
    "    for day in extracted:\n",
    "        day[1].to_excel(writer, sheet_name=day[0], index=False)"
   ]
  }
 ],
 "metadata": {
  "interpreter": {
   "hash": "efc8909056295f7ac0306314fc6701785a7c5529a31a1b9f3a632e9f2744ad31"
  },
  "kernelspec": {
   "display_name": "Python 3.8.3 ('venv': venv)",
   "language": "python",
   "name": "python3"
  },
  "language_info": {
   "codemirror_mode": {
    "name": "ipython",
    "version": 3
   },
   "file_extension": ".py",
   "mimetype": "text/x-python",
   "name": "python",
   "nbconvert_exporter": "python",
   "pygments_lexer": "ipython3",
   "version": "3.8.3"
  },
  "orig_nbformat": 4
 },
 "nbformat": 4,
 "nbformat_minor": 2
}
